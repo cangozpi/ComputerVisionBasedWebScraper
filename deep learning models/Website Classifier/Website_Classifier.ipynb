{
 "cells": [
  {
   "cell_type": "code",
   "execution_count": 20,
   "id": "2fe9ca96-f459-40d5-b458-6f5eec9175a5",
   "metadata": {},
   "outputs": [
    {
     "name": "stdout",
     "output_type": "stream",
     "text": [
      "C:\\Users\\Batu\\ComputerVisionBasedWebScraper\\deep learning models\\Website Classifier\\yolov5\n"
     ]
    },
    {
     "name": "stderr",
     "output_type": "stream",
     "text": [
      "fatal: destination path 'yolov5' already exists and is not an empty directory.\n"
     ]
    },
    {
     "name": "stdout",
     "output_type": "stream",
     "text": [
      "Note: you may need to restart the kernel to use updated packages.\n"
     ]
    }
   ],
   "source": [
    "!git clone -b classifier https://github.com/ultralytics/yolov5  \n",
    "%cd yolov5\n",
    "%pip install -qr requirements.txt  \n",
    "\n"
   ]
  },
  {
   "cell_type": "code",
   "execution_count": 26,
   "id": "fbe7d4fd-8f8c-4dae-95b3-21fd196fb84e",
   "metadata": {},
   "outputs": [],
   "source": [
    "from customDataset import WebsiteClassificationDataset\n",
    "import torchvision.transforms as transforms\n",
    "dataset = WebsiteClassificationDataset(csv_file=\"../annotations.csv\",root_dir=\"websiteScreenshots\",transform=transforms.ToTensor())"
   ]
  },
  {
   "cell_type": "code",
   "execution_count": 21,
   "id": "76a634e7-3986-4dcb-ad4c-7253dba68dc9",
   "metadata": {},
   "outputs": [
    {
     "name": "stdout",
     "output_type": "stream",
     "text": [
      "C:\\Users\\Batu\\ComputerVisionBasedWebScraper\\deep learning models\\Website Classifier\\yolov5\n"
     ]
    }
   ],
   "source": [
    "import os\n",
    "print(os.getcwd())"
   ]
  },
  {
   "cell_type": "code",
   "execution_count": 28,
   "id": "04751d7e-b110-4724-af05-e664230644be",
   "metadata": {},
   "outputs": [
    {
     "name": "stdout",
     "output_type": "stream",
     "text": [
      "\u001b[34m\u001b[1mgithub: \u001b[0m YOLOv5 is out of date by 4 commits. Use `git pull` or `git clone https://github.com/ultralytics/yolov5` to update.\n"
     ]
    },
    {
     "name": "stderr",
     "output_type": "stream",
     "text": [
      "YOLOv5  2021-12-13 torch 1.10.0+cpu CPU\n",
      "\n",
      "Traceback (most recent call last):\n",
      "  File \"classifier.py\", line 274, in <module>\n",
      "    train()\n",
      "  File \"classifier.py\", line 72, in train\n",
      "    download(url, dir=data_dir.parent)\n",
      "  File \"C:\\Users\\Batu\\ComputerVisionBasedWebScraper\\deep learning models\\Website Classifier\\yolov5\\utils\\general.py\", line 455, in download\n",
      "    download_one(u, dir)\n",
      "  File \"C:\\Users\\Batu\\ComputerVisionBasedWebScraper\\deep learning models\\Website Classifier\\yolov5\\utils\\general.py\", line 429, in download_one\n",
      "    if Path(url).is_file():  # exists in current path\n",
      "  File \"C:\\Users\\Batu\\Anaconda3\\envs\\comp491\\lib\\pathlib.py\", line 1387, in is_file\n",
      "    return S_ISREG(self.stat().st_mode)\n",
      "  File \"C:\\Users\\Batu\\Anaconda3\\envs\\comp491\\lib\\pathlib.py\", line 1183, in stat\n",
      "    return self._accessor.stat(self)\n",
      "OSError: [WinError 123] The filename, directory name, or volume label syntax is incorrect: 'https:\\\\github.com\\\\ultralytics\\\\yolov5\\\\releases\\\\download\\\\v1.0\\\\dataset.zip'\n"
     ]
    }
   ],
   "source": [
    "!python classifier.py --model yolov5s --data dataset --epochs 5 --adam"
   ]
  },
  {
   "cell_type": "code",
   "execution_count": null,
   "id": "080910d9-b620-4717-aea4-fc449773ea96",
   "metadata": {},
   "outputs": [],
   "source": []
  }
 ],
 "metadata": {
  "kernelspec": {
   "display_name": "Python 3 (ipykernel)",
   "language": "python",
   "name": "python3"
  },
  "language_info": {
   "codemirror_mode": {
    "name": "ipython",
    "version": 3
   },
   "file_extension": ".py",
   "mimetype": "text/x-python",
   "name": "python",
   "nbconvert_exporter": "python",
   "pygments_lexer": "ipython3",
   "version": "3.7.11"
  }
 },
 "nbformat": 4,
 "nbformat_minor": 5
}
