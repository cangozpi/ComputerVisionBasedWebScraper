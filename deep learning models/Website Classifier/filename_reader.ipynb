{
 "cells": [
  {
   "cell_type": "code",
   "execution_count": 2,
   "id": "5e51d575-7bac-4f30-80df-e778f0155496",
   "metadata": {},
   "outputs": [],
   "source": [
    "import glob\n",
    "import os\n",
    "import pickle\n",
    "import pandas as pd\n",
    "from os import listdir, getcwd\n",
    "from os.path import join"
   ]
  },
  {
   "cell_type": "code",
   "execution_count": 16,
   "id": "bc364983-ee3a-4111-abf2-87b4b98c444b",
   "metadata": {},
   "outputs": [],
   "source": [
    "dir_path = PATH\n",
    "image_list = []\n",
    "for filename in glob.glob(dir_path + '/*.jpeg'):\n",
    "    image_list.append(filename[62:])\n",
    "\n",
    "\n",
    "df = pd.DataFrame(image_list)\n",
    "df.to_csv(dir_path +\"/annotations.csv\")"
   ]
  },
  {
   "cell_type": "code",
   "execution_count": null,
   "id": "f0290311-2c2d-402e-b063-53ce5a4b8c6f",
   "metadata": {},
   "outputs": [],
   "source": []
  }
 ],
 "metadata": {
  "kernelspec": {
   "display_name": "Python 3 (ipykernel)",
   "language": "python",
   "name": "python3"
  },
  "language_info": {
   "codemirror_mode": {
    "name": "ipython",
    "version": 3
   },
   "file_extension": ".py",
   "mimetype": "text/x-python",
   "name": "python",
   "nbconvert_exporter": "python",
   "pygments_lexer": "ipython3",
   "version": "3.7.11"
  }
 },
 "nbformat": 4,
 "nbformat_minor": 5
}
