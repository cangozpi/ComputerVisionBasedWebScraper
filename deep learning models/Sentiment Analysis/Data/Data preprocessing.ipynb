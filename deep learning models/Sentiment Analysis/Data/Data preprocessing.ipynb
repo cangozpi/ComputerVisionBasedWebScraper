{
 "cells": [
  {
   "cell_type": "code",
   "execution_count": 9,
   "id": "13310076-848c-4415-a802-db1bf4dba1ab",
   "metadata": {},
   "outputs": [],
   "source": [
    "import pandas as pd\n",
    "import numpy as np\n",
    "import os"
   ]
  },
  {
   "cell_type": "code",
   "execution_count": 20,
   "id": "e7716384-8e59-4972-ae52-ee88021c96da",
   "metadata": {},
   "outputs": [],
   "source": [
    "# Current working directory\n",
    "cwd = os.getcwd()\n",
    "\n",
    "negative_label = 0\n",
    "neutral_label = 1\n",
    "positive_label = 2\n",
    "\n",
    "# Filepaths\n",
    "product_reviews_filepath = os.path.join(cwd,\"Unprocessed_data\\\\magaza_yorumlari_duygu_analizi_edited.txt\")\n",
    "movie_reviews_filepath = os.path.join(cwd,\"Unprocessed_data\\\\turkish_movie_sentiment_dataset.csv\")\n",
    "\n",
    "# Product reviews\n",
    "product_df = pd.read_csv(product_reviews_filepath,delimiter=\"\\t\")\n",
    "product_df.replace(\"Olumsuz\",value=negative_label,inplace=True)\n",
    "product_df.replace(\"Tarafsız\",value=neutral_label,inplace=True)\n",
    "product_df.replace(\"Olumlu\",value=positive_label,inplace=True)\n",
    "product_df.rename(columns={\"Durum\":\"Label\",\"Görüş\":\"Text\"},inplace=True)\n",
    "product_df.dropna(inplace=True)\n",
    "\n",
    "# Movie reviews\n",
    "movie_df = pd.read_csv(movie_reviews_filepath,delimiter=\"|\")\n",
    "\n",
    "movie_df.replace(\"0,5\",value=negative_label,inplace=True)\n",
    "movie_df.replace(\"1\",value=negative_label,inplace=True)\n",
    "movie_df.replace(\"1,5\",value=negative_label,inplace=True)\n",
    "movie_df.replace(\"2\",value=negative_label,inplace=True)\n",
    "movie_df.replace(\"2,5\",value=negative_label,inplace=True)\n",
    "movie_df.replace(\"3\",value=neutral_label,inplace=True)\n",
    "movie_df.replace(\"3,1\",value=neutral_label,inplace=True)\n",
    "movie_df.replace(\"3,2\",value=neutral_label,inplace=True)\n",
    "movie_df.replace(\"3,5\",value=neutral_label,inplace=True)\n",
    "movie_df.replace(\"3,7\",value=positive_label,inplace=True)\n",
    "movie_df.replace(\"3,8\",value=positive_label,inplace=True)\n",
    "movie_df.replace(\"3,9\",value=positive_label,inplace=True)\n",
    "movie_df.replace(\"4\",value=positive_label,inplace=True)\n",
    "movie_df.replace(\"4,5\",value=positive_label,inplace=True)\n",
    "movie_df.replace(\"4,6\",value=positive_label,inplace=True)\n",
    "movie_df.replace(\"5\",value=positive_label,inplace=True)\n",
    "\n",
    "movie_df.rename(columns={\"point\":\"Label\",\"comment\":\"Text\"},inplace=True)\n",
    "movie_df.dropna(inplace=True)\n",
    "\n",
    "df = pd.concat([product_df,movie_df])\n",
    "\n",
    "\n",
    "df.to_csv(os.path.join(cwd,\"Processed_data\\\\sentiment_data.csv\"),sep=\"|\")"
   ]
  },
  {
   "cell_type": "code",
   "execution_count": null,
   "id": "8cc03310-c236-4d8a-ae2c-e0e8114404d0",
   "metadata": {},
   "outputs": [],
   "source": []
  }
 ],
 "metadata": {
  "kernelspec": {
   "display_name": "Python 3 (ipykernel)",
   "language": "python",
   "name": "python3"
  },
  "language_info": {
   "codemirror_mode": {
    "name": "ipython",
    "version": 3
   },
   "file_extension": ".py",
   "mimetype": "text/x-python",
   "name": "python",
   "nbconvert_exporter": "python",
   "pygments_lexer": "ipython3",
   "version": "3.8.12"
  }
 },
 "nbformat": 4,
 "nbformat_minor": 5
}
