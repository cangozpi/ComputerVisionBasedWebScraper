{
 "cells": [
  {
   "cell_type": "code",
   "execution_count": 1,
   "id": "0857aead-39c8-4edf-b5c0-952e9b8ab6e2",
   "metadata": {},
   "outputs": [],
   "source": [
    "import os\n",
    "import math\n",
    "import numpy as np\n",
    "import pandas as pd\n",
    "from sklearn.model_selection import train_test_split\n"
   ]
  },
  {
   "cell_type": "code",
   "execution_count": 15,
   "id": "8db78a91-2843-4a67-a98d-564132ad6b22",
   "metadata": {},
   "outputs": [
    {
     "name": "stderr",
     "output_type": "stream",
     "text": [
      "C:\\Users\\Batu\\anaconda3\\envs\\COMP 491\\lib\\site-packages\\IPython\\core\\interactiveshell.py:3441: DtypeWarning: Columns (1,2,3,4,5,6,7,8,9,10,11,12,13,14,15,16,17,18,19,20,21,22,23,24,25) have mixed types.Specify dtype option on import or set low_memory=False.\n",
      "  exec(code_obj, self.user_global_ns, self.user_ns)\n"
     ]
    }
   ],
   "source": [
    "cwd = os.getcwd()\n",
    "\n",
    "filepath = os.path.join(cwd,\"Processed_data\\\\sentiment_data.csv\")\n",
    "\n",
    "df = pd.read_csv(filepath,sep=\"|\")\n",
    "df.drop(columns=\"Unnamed: 0\",inplace=True)\n"
   ]
  },
  {
   "cell_type": "code",
   "execution_count": 16,
   "id": "9218fc82-b2e1-4fbe-9b66-815b978973b2",
   "metadata": {},
   "outputs": [],
   "source": [
    "X = df.Text.values\n",
    "y = df.Label.values\n",
    "\n",
    "# Training 80% Test 20%\n",
    "X_train, X_test, y_train, y_test = train_test_split(X,y,test_size=0.2)\n",
    "\n",
    "# Training 70% Validation 10%  0.125 * 0.8 = 0.1\n",
    "X_train, X_val, y_train, y_val = train_test_split(X_train,y_train,test_size=0.125)\n",
    "\n",
    "\n",
    "# Training data\n",
    "train_df = pd.DataFrame(X_train, columns=[\"Text\"])\n",
    "train_df.insert(1,\"Label\",y_train)\n",
    "\n",
    "# Validation data\n",
    "val_df = pd.DataFrame(X_val, columns=[\"Text\"])\n",
    "val_df.insert(1,\"Label\",y_val)\n",
    "\n",
    "# Testing data\n",
    "test_df = pd.DataFrame(X_test, columns=[\"Text\"])\n",
    "test_df.insert(1,\"Label\",y_test)\n",
    "\n",
    "\n"
   ]
  },
  {
   "cell_type": "code",
   "execution_count": 17,
   "id": "a6ffa327-f6fb-4deb-8d3a-8138da616a31",
   "metadata": {},
   "outputs": [
    {
     "name": "stdout",
     "output_type": "stream",
     "text": [
      "                                                    Text Label\n",
      "0      \\n Açıkcası ben filmi çok beğenmedim arkadaşın...     1\n",
      "1      \\n Film ile ilgili söylenecek pek çok şey var ...     2\n",
      "2      \\n hehe ilk iki filmde komikti bence chucky ol...     2\n",
      "3      \\n tarantino azda olsa görünecek gibi filmde.....     0\n",
      "4      \\n Çok fazla etkileyici bulamamakla beraber kü...     1\n",
      "...                                                  ...   ...\n",
      "16641  \\n biraz çirkin yazacam ama bu nedir allah aşk...     0\n",
      "16642  \\n Senaryoda, sahneleride oldukça abartıydı.He...     1\n",
      "16643  \\n klasik bi film.bence daha güzelleri varken ...     0\n",
      "16644  \\n Hollywood tarzı bi sonu olmadığı için güzel...     1\n",
      "16645  \\n filmin senaryosu güzel çağan ırmakın ilk fi...     0\n",
      "\n",
      "[16646 rows x 2 columns]\n"
     ]
    }
   ],
   "source": [
    "training_data_filepath = os.path.join(cwd,\"Training Set\\\\train.csv\")\n",
    "val_data_filepath = os.path.join(cwd,\"Validation Set\\\\val.csv\")\n",
    "test_data_filepath = os.path.join(cwd,\"Test Set\\\\test.csv\")\n",
    "\n",
    "# Train\n",
    "train_df.to_csv(training_data_filepath,sep=\",\")\n",
    "# Val\n",
    "val_df.to_csv(val_data_filepath,sep=\",\")\n",
    "# Test\n",
    "print(test_df)\n",
    "test_df.to_csv(test_data_filepath,sep=\",\")\n"
   ]
  },
  {
   "cell_type": "code",
   "execution_count": null,
   "id": "04798172-d772-461b-b188-aadccfeeb262",
   "metadata": {},
   "outputs": [],
   "source": []
  }
 ],
 "metadata": {
  "kernelspec": {
   "display_name": "Python 3 (ipykernel)",
   "language": "python",
   "name": "python3"
  },
  "language_info": {
   "codemirror_mode": {
    "name": "ipython",
    "version": 3
   },
   "file_extension": ".py",
   "mimetype": "text/x-python",
   "name": "python",
   "nbconvert_exporter": "python",
   "pygments_lexer": "ipython3",
   "version": "3.8.12"
  }
 },
 "nbformat": 4,
 "nbformat_minor": 5
}
