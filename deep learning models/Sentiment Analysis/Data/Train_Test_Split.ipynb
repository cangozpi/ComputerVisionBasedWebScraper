{
 "cells": [
  {
   "cell_type": "code",
   "execution_count": 1,
   "id": "0857aead-39c8-4edf-b5c0-952e9b8ab6e2",
   "metadata": {},
   "outputs": [],
   "source": [
    "import os\n",
    "import math\n",
    "import numpy as np\n",
    "import pandas as pd\n",
    "from sklearn.model_selection import train_test_split\n"
   ]
  },
  {
   "cell_type": "code",
   "execution_count": 6,
   "id": "8db78a91-2843-4a67-a98d-564132ad6b22",
   "metadata": {},
   "outputs": [],
   "source": [
    "cwd = os.getcwd()\n",
    "\n",
    "filepath = os.path.join(cwd,\"Processed_data\\\\sentiment_data.csv\")\n",
    "\n",
    "df = pd.read_csv(filepath,sep=\"|\")\n",
    "df.drop(columns=\"Unnamed: 0\",inplace=True)\n"
   ]
  },
  {
   "cell_type": "code",
   "execution_count": 7,
   "id": "9218fc82-b2e1-4fbe-9b66-815b978973b2",
   "metadata": {},
   "outputs": [],
   "source": [
    "X = df.Text.values\n",
    "y = df.Label.values\n",
    "\n",
    "# Training 80% Test 20%\n",
    "X_train, X_test, y_train, y_test = train_test_split(X,y,test_size=0.2)\n",
    "\n",
    "# Training 70% Validation 10%  0.125 * 0.8 = 0.1\n",
    "X_train, X_val, y_train, y_val = train_test_split(X_train,y_train,test_size=0.125)\n",
    "\n",
    "\n",
    "# Training data\n",
    "train_df = pd.DataFrame(X_train, columns=[\"Text\"])\n",
    "train_df.insert(1,\"Label\",y_train)\n",
    "\n",
    "# Validation data\n",
    "val_df = pd.DataFrame(X_val, columns=[\"Text\"])\n",
    "val_df.insert(1,\"Label\",y_val)\n",
    "\n",
    "# Testing data\n",
    "test_df = pd.DataFrame(X_test, columns=[\"Text\"])\n",
    "test_df.insert(1,\"Label\",y_test)\n",
    "\n",
    "\n"
   ]
  },
  {
   "cell_type": "code",
   "execution_count": 8,
   "id": "a6ffa327-f6fb-4deb-8d3a-8138da616a31",
   "metadata": {},
   "outputs": [],
   "source": [
    "training_data_filepath = os.path.join(cwd,\"Training Set\\\\train.csv\")\n",
    "val_data_filepath = os.path.join(cwd,\"Validation Set\\\\val.csv\")\n",
    "test_data_filepath = os.path.join(cwd,\"Test Set\\\\test.csv\")\n",
    "\n",
    "# Train\n",
    "train_df.to_csv(training_data_filepath,sep=\"|\")\n",
    "# Val\n",
    "val_df.to_csv(val_data_filepath,sep=\"|\")\n",
    "# Test\n",
    "test_df.to_csv(test_data_filepath,sep=\"|\")\n"
   ]
  },
  {
   "cell_type": "code",
   "execution_count": null,
   "id": "04798172-d772-461b-b188-aadccfeeb262",
   "metadata": {},
   "outputs": [],
   "source": []
  }
 ],
 "metadata": {
  "kernelspec": {
   "display_name": "Python 3 (ipykernel)",
   "language": "python",
   "name": "python3"
  },
  "language_info": {
   "codemirror_mode": {
    "name": "ipython",
    "version": 3
   },
   "file_extension": ".py",
   "mimetype": "text/x-python",
   "name": "python",
   "nbconvert_exporter": "python",
   "pygments_lexer": "ipython3",
   "version": "3.7.11"
  }
 },
 "nbformat": 4,
 "nbformat_minor": 5
}
