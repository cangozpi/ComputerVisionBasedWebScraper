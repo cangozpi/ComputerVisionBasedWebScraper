{
 "cells": [
  {
   "cell_type": "markdown",
   "id": "a47973fb-5373-4b14-b45f-cfa49f25d0c3",
   "metadata": {},
   "source": [
    "Template code for Google Colab from roboflow https://models.roboflow.com/"
   ]
  },
  {
   "cell_type": "markdown",
   "id": "052e4980-7e87-433e-9c50-8ea9898ea1f9",
   "metadata": {},
   "source": [
    "Training YOLOv3 object detection on a custom dataset"
   ]
  },
  {
   "cell_type": "code",
   "execution_count": 1,
   "id": "5f713304-b6be-4055-802f-020676661053",
   "metadata": {},
   "outputs": [
    {
     "name": "stdout",
     "output_type": "stream",
     "text": [
      "PyTorch 1.4.0 CPU\n"
     ]
    }
   ],
   "source": [
    "import os\n",
    "import torch\n",
    "from IPython.display import Image, clear_output \n",
    "print('PyTorch %s %s' % (torch.__version__, torch.cuda.get_device_properties(0) if torch.cuda.is_available() else 'CPU'))"
   ]
  },
  {
   "cell_type": "code",
   "execution_count": null,
   "id": "2665c297-1110-46a0-8019-94b86e77b094",
   "metadata": {},
   "outputs": [],
   "source": [
    "!git clone https://github.com/roboflow-ai/yolov3  # clone"
   ]
  },
  {
   "cell_type": "markdown",
   "id": "7d4f5814-315d-418f-8b90-7094c3cd832b",
   "metadata": {},
   "source": [
    "data\n"
   ]
  },
  {
   "cell_type": "markdown",
   "id": "c21d1377-7e04-423b-8078-0f1ab953c64b",
   "metadata": {},
   "source": [
    "Set up model config"
   ]
  },
  {
   "cell_type": "code",
   "execution_count": null,
   "id": "c43a0a16-bb0e-4356-8b32-d5ebdfce63e5",
   "metadata": {},
   "outputs": [],
   "source": [
    "def get_num_classes(labels_file_path):\n",
    "    classes = 0\n",
    "    with open(labels_file_path, 'r') as f:\n",
    "      for line in f:\n",
    "        classes += 1\n",
    "    return classes"
   ]
  },
  {
   "cell_type": "code",
   "execution_count": null,
   "id": "9335712d-7021-4719-bd18-a58fa396e358",
   "metadata": {},
   "outputs": [],
   "source": [
    "import re\n",
    "\n",
    "num_classes = get_num_classes(\"../../train/_darknet.labels\")\n",
    "with open(\"roboflow.data\") as f:\n",
    "    s = f.read()\n",
    "with open(\"roboflow.data\", 'w') as f:\n",
    "    \n",
    "    # Set number of classes num_classes.\n",
    "    s = re.sub('classes=[0-9]+',\n",
    "               'classes={}'.format(num_classes), s)\n",
    "    f.write(s)"
   ]
  },
  {
   "cell_type": "markdown",
   "id": "a4a3d608-05fe-46fa-82e2-42aa0a0d9eba",
   "metadata": {},
   "source": [
    "Training our model"
   ]
  },
  {
   "cell_type": "code",
   "execution_count": null,
   "id": "3b7ae8cc-04b6-4580-8d1e-03c571cb8bc1",
   "metadata": {},
   "outputs": [],
   "source": [
    "!python3 train.py --data data/roboflow.data --epochs 300"
   ]
  },
  {
   "cell_type": "markdown",
   "id": "54a561a8-dea0-4438-b8e8-16fa68c485dd",
   "metadata": {},
   "source": [
    "Display training performance"
   ]
  },
  {
   "cell_type": "code",
   "execution_count": null,
   "id": "5c2e463d-3181-4364-aadd-2cb17bbcc621",
   "metadata": {},
   "outputs": [],
   "source": [
    "from utils import utils; utils.plot_results()"
   ]
  },
  {
   "cell_type": "markdown",
   "id": "d7f0e7c5-982e-4804-8194-8c92013670a4",
   "metadata": {},
   "source": [
    "Conduct inference and display results"
   ]
  },
  {
   "cell_type": "code",
   "execution_count": null,
   "id": "ae3fbee3-9a04-4181-b4a3-04679bf0b56b",
   "metadata": {},
   "outputs": [],
   "source": [
    "!python3 detect.py --weights weights/last.pt --source=../test --names=../train/roboflow_data.names"
   ]
  },
  {
   "cell_type": "markdown",
   "id": "76d6c3b9-0101-49e8-ad07-899d53c06e50",
   "metadata": {},
   "source": [
    "Displaying our results"
   ]
  },
  {
   "cell_type": "code",
   "execution_count": null,
   "id": "4b55f468-c4ed-4a6d-a3a7-8fd6e059e342",
   "metadata": {},
   "outputs": [],
   "source": [
    "# import libraries for display\n",
    "%matplotlib inline\n",
    "import matplotlib.pyplot as plt\n",
    "import numpy as np\n",
    "from IPython.display import display, Image\n",
    "from glob import glob\n",
    "import random\n",
    "import PIL"
   ]
  },
  {
   "cell_type": "code",
   "execution_count": null,
   "id": "4fff7435-2a7b-4ced-a627-0df8a1c3dc7d",
   "metadata": {},
   "outputs": [],
   "source": [
    "# plot just one random image prediction\n",
    "filename = random.choice(os.listdir('./output'))\n",
    "print(filename)\n",
    "Image('./output/' + filename)"
   ]
  },
  {
   "cell_type": "code",
   "execution_count": null,
   "id": "0557584d-d05e-4243-86da-6e912c8c616d",
   "metadata": {},
   "outputs": [],
   "source": [
    "# grab all images from our output directory\n",
    "images = [ PIL.Image.open(f) for f in glob('./output/*') ]"
   ]
  },
  {
   "cell_type": "code",
   "execution_count": null,
   "id": "920f4b92-d286-484f-985a-35b5e00a9707",
   "metadata": {},
   "outputs": [],
   "source": [
    "# convert images to numPy\n",
    "def img2array(im):\n",
    "    if im.mode != 'RGB':\n",
    "        im = im.convert(mode='RGB')\n",
    "    return np.fromstring(im.tobytes(), dtype='uint8').reshape((im.size[1], im.size[0], 3))"
   ]
  },
  {
   "cell_type": "code",
   "execution_count": null,
   "id": "6b950b13-bf86-4452-9041-287c7f555583",
   "metadata": {},
   "outputs": [],
   "source": [
    "# create array of numPy images\n",
    "np_images = [ img2array(im) for im in images ]"
   ]
  },
  {
   "cell_type": "code",
   "execution_count": null,
   "id": "d9be4171-6bf9-48b8-8652-e9dc1f51919a",
   "metadata": {},
   "outputs": [],
   "source": [
    "# plot ALL results in test directory (NOTE: adjust figsize as you please)\n",
    "for img in np_images:\n",
    "    plt.figure(figsize=(8, 6))\n",
    "    plt.imshow(img)"
   ]
  },
  {
   "cell_type": "markdown",
   "id": "3aefb134-09e4-4b37-a42a-3d7f9b0bb50a",
   "metadata": {},
   "source": [
    "Save Our Weights"
   ]
  },
  {
   "cell_type": "code",
   "execution_count": null,
   "id": "e0179e19-abd9-4de1-ba7c-31ebc3ae7201",
   "metadata": {},
   "outputs": [],
   "source": [
    "# save locally\n",
    "from google.colab import files\n",
    "files.download('./weights/last.pt')"
   ]
  }
 ],
 "metadata": {
  "kernelspec": {
   "display_name": "Python 3 (ipykernel)",
   "language": "python",
   "name": "python3"
  },
  "language_info": {
   "codemirror_mode": {
    "name": "ipython",
    "version": 3
   },
   "file_extension": ".py",
   "mimetype": "text/x-python",
   "name": "python",
   "nbconvert_exporter": "python",
   "pygments_lexer": "ipython3",
   "version": "3.8.12"
  }
 },
 "nbformat": 4,
 "nbformat_minor": 5
}
