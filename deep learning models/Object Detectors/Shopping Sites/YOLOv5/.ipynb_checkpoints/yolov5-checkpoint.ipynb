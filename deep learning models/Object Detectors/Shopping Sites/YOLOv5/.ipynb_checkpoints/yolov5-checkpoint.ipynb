{
 "cells": [
  {
   "cell_type": "markdown",
   "id": "2f8add2a-9158-458b-b9d5-1e42c716de59",
   "metadata": {},
   "source": [
    "Template code for Google Colab from roboflow https://models.roboflow.com/"
   ]
  },
  {
   "cell_type": "markdown",
   "id": "71bedffd-0b77-41c2-9e2d-e4acb6ad49f0",
   "metadata": {},
   "source": [
    "Install Dependencies"
   ]
  },
  {
   "cell_type": "code",
   "execution_count": null,
   "id": "ebbb9376-f96e-41a5-af56-ae8c77c9eaf2",
   "metadata": {},
   "outputs": [],
   "source": [
    "# clone YOLOv5 repository\n",
    "!git clone https://github.com/ultralytics/yolov5  # clone repo\n",
    "%cd yolov5\n",
    "!git reset --hard 886f1c03d839575afecb059accf74296fad395b6"
   ]
  },
  {
   "cell_type": "code",
   "execution_count": null,
   "id": "bc360733-20b8-47c7-b1aa-b8fcf4550edd",
   "metadata": {},
   "outputs": [],
   "source": [
    "# install dependencies as necessary\n",
    "!pip install -qr requirements.txt  # install dependencies (ignore errors)\n",
    "import torch\n",
    "\n",
    "from IPython.display import Image, clear_output  # to display images\n",
    "from utils.google_utils import gdrive_download  # to download models/datasets\n",
    "\n",
    "# clear_output()\n",
    "print('Setup complete. Using torch %s %s' % (torch.__version__, torch.cuda.get_device_properties(0) if torch.cuda.is_available() else 'CPU'))"
   ]
  },
  {
   "cell_type": "markdown",
   "id": "8de23436-7bfc-45f8-bca7-b8a202a82f16",
   "metadata": {},
   "source": [
    "LOAD DATA"
   ]
  },
  {
   "cell_type": "markdown",
   "id": "647fb8d8-9b4f-4854-b28d-4771d828a9f8",
   "metadata": {},
   "source": [
    "Define Model Configuration and Architecture"
   ]
  },
  {
   "cell_type": "code",
   "execution_count": null,
   "id": "82343339-5cf8-48d7-9099-65d8e6de1bf0",
   "metadata": {},
   "outputs": [],
   "source": [
    "# define number of classes based on YAML\n",
    "import yaml\n",
    "with open(dataset.location + \"/data.yaml\", 'r') as stream:\n",
    "    num_classes = str(yaml.safe_load(stream)['nc'])"
   ]
  },
  {
   "cell_type": "code",
   "execution_count": null,
   "id": "f9a048f2-5d22-4039-958d-6ed2b7a47079",
   "metadata": {},
   "outputs": [],
   "source": [
    "#this is the model configuration we will use for our tutorial \n",
    "%cat /content/yolov5/models/yolov5s.yaml"
   ]
  },
  {
   "cell_type": "code",
   "execution_count": null,
   "id": "fc2d5c40-fa8f-4621-a149-880677a8840d",
   "metadata": {},
   "outputs": [],
   "source": [
    "#customize iPython writefile so we can write variables\n",
    "from IPython.core.magic import register_line_cell_magic\n",
    "\n",
    "@register_line_cell_magic\n",
    "def writetemplate(line, cell):\n",
    "    with open(line, 'w') as f:\n",
    "        f.write(cell.format(**globals()))"
   ]
  },
  {
   "cell_type": "code",
   "execution_count": null,
   "id": "a221316e-a2c7-4d2b-a0f4-66f824d81763",
   "metadata": {},
   "outputs": [],
   "source": [
    "%%writetemplate /content/yolov5/models/custom_yolov5s.yaml\n",
    "\n",
    "# parameters\n",
    "nc: {num_classes}  # number of classes\n",
    "depth_multiple: 0.33  # model depth multiple\n",
    "width_multiple: 0.50  # layer channel multiple\n",
    "\n",
    "# anchors\n",
    "anchors:\n",
    "  - [10,13, 16,30, 33,23]  # P3/8\n",
    "  - [30,61, 62,45, 59,119]  # P4/16\n",
    "  - [116,90, 156,198, 373,326]  # P5/32\n",
    "\n",
    "# YOLOv5 backbone\n",
    "backbone:\n",
    "  # [from, number, module, args]\n",
    "  [[-1, 1, Focus, [64, 3]],  # 0-P1/2\n",
    "   [-1, 1, Conv, [128, 3, 2]],  # 1-P2/4\n",
    "   [-1, 3, BottleneckCSP, [128]],\n",
    "   [-1, 1, Conv, [256, 3, 2]],  # 3-P3/8\n",
    "   [-1, 9, BottleneckCSP, [256]],\n",
    "   [-1, 1, Conv, [512, 3, 2]],  # 5-P4/16\n",
    "   [-1, 9, BottleneckCSP, [512]],\n",
    "   [-1, 1, Conv, [1024, 3, 2]],  # 7-P5/32\n",
    "   [-1, 1, SPP, [1024, [5, 9, 13]]],\n",
    "   [-1, 3, BottleneckCSP, [1024, False]],  # 9\n",
    "  ]\n",
    "\n",
    "# YOLOv5 head\n",
    "head:\n",
    "  [[-1, 1, Conv, [512, 1, 1]],\n",
    "   [-1, 1, nn.Upsample, [None, 2, 'nearest']],\n",
    "   [[-1, 6], 1, Concat, [1]],  # cat backbone P4\n",
    "   [-1, 3, BottleneckCSP, [512, False]],  # 13\n",
    "\n",
    "   [-1, 1, Conv, [256, 1, 1]],\n",
    "   [-1, 1, nn.Upsample, [None, 2, 'nearest']],\n",
    "   [[-1, 4], 1, Concat, [1]],  # cat backbone P3\n",
    "   [-1, 3, BottleneckCSP, [256, False]],  # 17 (P3/8-small)\n",
    "\n",
    "   [-1, 1, Conv, [256, 3, 2]],\n",
    "   [[-1, 14], 1, Concat, [1]],  # cat head P4\n",
    "   [-1, 3, BottleneckCSP, [512, False]],  # 20 (P4/16-medium)\n",
    "\n",
    "   [-1, 1, Conv, [512, 3, 2]],\n",
    "   [[-1, 10], 1, Concat, [1]],  # cat head P5\n",
    "   [-1, 3, BottleneckCSP, [1024, False]],  # 23 (P5/32-large)\n",
    "\n",
    "   [[17, 20, 23], 1, Detect, [nc, anchors]],  # Detect(P3, P4, P5)\n",
    "  ]"
   ]
  },
  {
   "cell_type": "markdown",
   "id": "29828086-3334-4767-a5ea-cb2f3a968db6",
   "metadata": {},
   "source": [
    "Train Custom YOLOv5 Detector"
   ]
  },
  {
   "cell_type": "code",
   "execution_count": null,
   "id": "96f8aa69-8577-42ef-91a4-bb521567c251",
   "metadata": {},
   "outputs": [],
   "source": [
    "# train yolov5s on custom data for 100 epochs\n",
    "# time its performance\n",
    "%%time\n",
    "%cd /content/yolov5/\n",
    "!python train.py --img 416 --batch 16 --epochs 100 --data {dataset.location}/data.yaml --cfg ./models/custom_yolov5s.yaml --weights '' --name yolov5s_results  --cache"
   ]
  },
  {
   "cell_type": "markdown",
   "id": "e9b23794-a702-4737-95ec-5b5bdebbdf5f",
   "metadata": {},
   "source": [
    "Evaluate Custom YOLOv5 Detector Performance"
   ]
  },
  {
   "cell_type": "code",
   "execution_count": null,
   "id": "000eb9e7-f67e-4a12-ac45-6541c4b43380",
   "metadata": {},
   "outputs": [],
   "source": [
    "# Start tensorboard\n",
    "# Launch after you have started training\n",
    "# logs save in the folder \"runs\"\n",
    "%load_ext tensorboard\n",
    "%tensorboard --logdir runs"
   ]
  },
  {
   "cell_type": "code",
   "execution_count": null,
   "id": "24a07bba-405a-4437-8109-46f933df0274",
   "metadata": {},
   "outputs": [],
   "source": [
    "# we can also output some older school graphs if the tensor board isn't working for whatever reason... \n",
    "from utils.plots import plot_results  # plot results.txt as results.png\n",
    "Image(filename='/content/yolov5/runs/train/yolov5s_results/results.png', width=1000)  # view results.png"
   ]
  },
  {
   "cell_type": "markdown",
   "id": "e5171fd3-930e-4491-a2bd-abb63521d91a",
   "metadata": {},
   "source": [
    "Run Inference With Trained Weights"
   ]
  },
  {
   "cell_type": "code",
   "execution_count": null,
   "id": "b0768f88-2323-4c85-82d6-57fadcd91b31",
   "metadata": {},
   "outputs": [],
   "source": [
    "# trained weights are saved by default in our weights folder\n",
    "%ls runs/"
   ]
  },
  {
   "cell_type": "code",
   "execution_count": null,
   "id": "23f9d902-f22f-4754-882f-37aa654ccdef",
   "metadata": {},
   "outputs": [],
   "source": [
    "%ls runs/train/yolov5s_results/weights"
   ]
  },
  {
   "cell_type": "code",
   "execution_count": null,
   "id": "cd18e90f-dd15-4028-b1e3-8ca04cead436",
   "metadata": {},
   "outputs": [],
   "source": [
    "%cd /content/yolov5/\n",
    "!python detect.py --weights runs/train/yolov5s_results/weights/best.pt --img 416 --conf 0.4 --source ../test/images"
   ]
  },
  {
   "cell_type": "code",
   "execution_count": null,
   "id": "2f8f791b-eb80-4e1c-a63e-827a4291b560",
   "metadata": {},
   "outputs": [],
   "source": [
    "import glob\n",
    "from IPython.display import Image, display\n",
    "\n",
    "for imageName in glob.glob('/content/yolov5/runs/detect/exp/*.jpg'): #assuming JPG\n",
    "    display(Image(filename=imageName))\n",
    "    print(\"\\n\")"
   ]
  },
  {
   "cell_type": "code",
   "execution_count": null,
   "id": "593cdca3-66e4-4c24-aeb4-b2b9b90312d7",
   "metadata": {},
   "outputs": [],
   "source": []
  }
 ],
 "metadata": {
  "kernelspec": {
   "display_name": "Python 3 (ipykernel)",
   "language": "python",
   "name": "python3"
  },
  "language_info": {
   "codemirror_mode": {
    "name": "ipython",
    "version": 3
   },
   "file_extension": ".py",
   "mimetype": "text/x-python",
   "name": "python",
   "nbconvert_exporter": "python",
   "pygments_lexer": "ipython3",
   "version": "3.8.12"
  }
 },
 "nbformat": 4,
 "nbformat_minor": 5
}
