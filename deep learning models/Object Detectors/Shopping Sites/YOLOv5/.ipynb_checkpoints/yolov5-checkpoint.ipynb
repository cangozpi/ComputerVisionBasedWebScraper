{
 "cells": [
  {
   "cell_type": "markdown",
   "id": "c8729ed4-ae46-4ffb-9354-464b106c7fb6",
   "metadata": {},
   "source": [
    "Clone repo"
   ]
  },
  {
   "cell_type": "code",
   "execution_count": null,
   "id": "ebbb9376-f96e-41a5-af56-ae8c77c9eaf2",
   "metadata": {},
   "outputs": [],
   "source": [
    "!git clone https://github.com/ultralytics/yolov5  # clone\n",
    "%cd yolov5\n",
    "%pip install -qr requirements.txt  # install\n",
    "\n",
    "from yolov5 import utils\n",
    "display = utils.notebook_init()  # checks"
   ]
  },
  {
   "cell_type": "markdown",
   "id": "fa66eb23-4831-4597-88f2-eabc01ffe867",
   "metadata": {},
   "source": [
    "Unzip data"
   ]
  },
  {
   "cell_type": "code",
   "execution_count": null,
   "id": "cddec253-5277-4d5c-8336-2e28dbb1bb39",
   "metadata": {},
   "outputs": [],
   "source": [
    "!unzip -q ../n11.zip -d ../"
   ]
  },
  {
   "cell_type": "markdown",
   "id": "9190e00f-2ba3-4363-a679-95c8723c84a7",
   "metadata": {},
   "source": [
    "Train"
   ]
  },
  {
   "cell_type": "code",
   "execution_count": null,
   "id": "a1aae53d-0abd-423a-80da-0e2945948c59",
   "metadata": {},
   "outputs": [],
   "source": [
    "!python train.py --img 1251 --batch 16 --epochs 200 --data trendyol_data.yaml --weights yolov5s.pt --cache"
   ]
  },
  {
   "cell_type": "markdown",
   "id": "783aa3a2-1668-4058-88c7-ffdfda53f8ca",
   "metadata": {},
   "source": [
    "Test"
   ]
  },
  {
   "cell_type": "code",
   "execution_count": null,
   "id": "26d9a032-d5a7-4801-a8c8-b81f54fb37ae",
   "metadata": {},
   "outputs": [],
   "source": [
    "!python detect.py --weights /content/best.pt --img 1251 --conf 0.25 --source /content/n11/images --save-txt --save-conf"
   ]
  }
 ],
 "metadata": {
  "kernelspec": {
   "display_name": "Python 3 (ipykernel)",
   "language": "python",
   "name": "python3"
  },
  "language_info": {
   "codemirror_mode": {
    "name": "ipython",
    "version": 3
   },
   "file_extension": ".py",
   "mimetype": "text/x-python",
   "name": "python",
   "nbconvert_exporter": "python",
   "pygments_lexer": "ipython3",
   "version": "3.8.12"
  }
 },
 "nbformat": 4,
 "nbformat_minor": 5
}
