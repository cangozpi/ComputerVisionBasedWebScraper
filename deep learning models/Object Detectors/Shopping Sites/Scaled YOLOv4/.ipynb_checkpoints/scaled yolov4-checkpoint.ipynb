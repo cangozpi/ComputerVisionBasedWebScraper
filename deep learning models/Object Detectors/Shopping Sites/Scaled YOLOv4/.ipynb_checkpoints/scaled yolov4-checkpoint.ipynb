{
 "cells": [
  {
   "cell_type": "markdown",
   "id": "c06bac78-dceb-4a01-b6f8-126d2efb9b15",
   "metadata": {},
   "source": [
    "Template code for Google Colab from roboflow https://models.roboflow.com/"
   ]
  },
  {
   "cell_type": "markdown",
   "id": "c5a167a6-630b-4976-ac6f-52139c48d785",
   "metadata": {},
   "source": [
    "Install Dependencies"
   ]
  },
  {
   "cell_type": "code",
   "execution_count": null,
   "id": "d9986fd7-b35e-4270-a0ac-5593fc2e4ca0",
   "metadata": {},
   "outputs": [],
   "source": [
    "# clone Scaled_YOLOv4\n",
    "!git clone https://github.com/roboflow-ai/ScaledYOLOv4.git  # clone repo\n",
    "%cd /content/ScaledYOLOv4/\n",
    "#checkout the yolov4-large branch\n",
    "!git checkout yolov4-large"
   ]
  },
  {
   "cell_type": "code",
   "execution_count": null,
   "id": "f22b218c-847f-455f-af2c-c9834a301b57",
   "metadata": {},
   "outputs": [],
   "source": [
    "import torch\n",
    "print('Using torch %s %s' % (torch.__version__, torch.cuda.get_device_properties(0) if torch.cuda.is_available() else 'CPU'))"
   ]
  },
  {
   "cell_type": "code",
   "execution_count": null,
   "id": "80a663cc-8010-493a-90d4-94b1fc9ac931",
   "metadata": {},
   "outputs": [],
   "source": [
    "#install mish activation funciton for cuda\n",
    "%cd /content/\n",
    "!git clone https://github.com/JunnYu/mish-cuda\n",
    "%cd mish-cuda\n",
    "!python setup.py build install"
   ]
  },
  {
   "cell_type": "code",
   "execution_count": null,
   "id": "e60dde39-03b7-48bc-8beb-17fe30c670ad",
   "metadata": {},
   "outputs": [],
   "source": [
    "!pip install -U PyYAML"
   ]
  },
  {
   "cell_type": "code",
   "execution_count": null,
   "id": "45a1df45-e919-4b48-b183-b2f4f18a4d8a",
   "metadata": {},
   "outputs": [],
   "source": [
    "%cd /content/ScaledYOLOv4/\n"
   ]
  },
  {
   "cell_type": "markdown",
   "id": "8484d8ae-037c-4c17-b532-6c97930cc31d",
   "metadata": {},
   "source": [
    "data"
   ]
  },
  {
   "cell_type": "markdown",
   "id": "9b1297a5-4a3f-4eaf-a310-9c51be5fd3bd",
   "metadata": {},
   "source": [
    "Inspect Model Configuration and Architecture"
   ]
  },
  {
   "cell_type": "code",
   "execution_count": null,
   "id": "4b27654d-22cf-4720-b94a-f2c4bd59ba02",
   "metadata": {},
   "outputs": [],
   "source": [
    "%cat /content/ScaledYOLOv4/models/yolov4-csp.yaml"
   ]
  },
  {
   "cell_type": "markdown",
   "id": "3c3876ab-3bda-4046-8c37-c114086a0e04",
   "metadata": {},
   "source": [
    "Train Custom Scaled-YOLOv4 Detector"
   ]
  },
  {
   "cell_type": "code",
   "execution_count": null,
   "id": "021a5087-c184-4dd4-a725-a85e152ed5b2",
   "metadata": {},
   "outputs": [],
   "source": [
    "# train scaled-YOLOv4 on custom data for 100 epochs\n",
    "# time its performance\n",
    "%%time\n",
    "%cd /content/ScaledYOLOv4/\n",
    "!python train.py --img 416 --batch 16 --epochs 100 --data {dataset.location}/data.yaml --cfg ./models/yolov4-csp.yaml --weights '' --name yolov4-csp-results  --cache"
   ]
  },
  {
   "cell_type": "markdown",
   "id": "86bc36f3-d92c-4b94-a777-aa3579ee4877",
   "metadata": {},
   "source": [
    "Evaluate Custom Scaled-YOLOv4 Detector Performance"
   ]
  },
  {
   "cell_type": "code",
   "execution_count": null,
   "id": "9ea18db5-26e7-4957-b1cc-b7012de77ca6",
   "metadata": {},
   "outputs": [],
   "source": [
    "# Start tensorboard\n",
    "# Launch after you have started training\n",
    "# logs save in the folder \"runs\"\n",
    "%load_ext tensorboard\n",
    "%tensorboard --logdir runs"
   ]
  },
  {
   "cell_type": "code",
   "execution_count": null,
   "id": "0874c29f-2710-4f48-9937-93f8e74c5c8d",
   "metadata": {},
   "outputs": [],
   "source": [
    "# we can also output some older school graphs if the tensor board isn't working for whatever reason... \n",
    "#from utils.general import plot_results  # plot results.txt as results.png\n",
    "from IPython.display import Image, display\n",
    "display(Image('/content/ScaledYOLOv4/runs/exp0_yolov4-csp-results/results.png'))  # view results.png"
   ]
  },
  {
   "cell_type": "markdown",
   "id": "7ae1539e-a0e0-404b-b5a4-39a832e151f0",
   "metadata": {},
   "source": [
    "Run inference with a pretrained checkpoint"
   ]
  },
  {
   "cell_type": "code",
   "execution_count": null,
   "id": "b377dd7d-bb69-48c1-b525-759fe90bc6a1",
   "metadata": {},
   "outputs": [],
   "source": [
    "# trained weights are saved by default in our weights folder\n",
    "%ls runs/"
   ]
  },
  {
   "cell_type": "code",
   "execution_count": null,
   "id": "37c665d4-1610-4ed1-901c-6e44b804e33c",
   "metadata": {},
   "outputs": [],
   "source": [
    "%ls ./runs/exp0_yolov4-csp-results/weights"
   ]
  },
  {
   "cell_type": "code",
   "execution_count": null,
   "id": "c6c331bf-c027-48ea-8963-5477a5b6b598",
   "metadata": {},
   "outputs": [],
   "source": [
    "\n",
    "# use the best weights!\n",
    "%cd /content/ScaledYOLOv4/\n",
    "!python detect.py --weights ./runs/exp0_yolov4-csp-results/weights/best_yolov4-csp-results.pt --img 416 --conf 0.4 --source ../test/images"
   ]
  },
  {
   "cell_type": "code",
   "execution_count": null,
   "id": "f26806b6-c90a-4a23-9347-81b037c78dfe",
   "metadata": {},
   "outputs": [],
   "source": [
    "#display inference on ALL test images\n",
    "#this looks much better with longer training above\n",
    "import glob\n",
    "from IPython.display import Image, display\n",
    "\n",
    "for imageName in glob.glob('./inference/output/*.jpg'): #assuming JPG\n",
    "    display(Image(filename=imageName))\n",
    "    print(\"\\n\")"
   ]
  },
  {
   "cell_type": "markdown",
   "id": "34092b5a-ac21-42df-a300-2db4dff1dfab",
   "metadata": {},
   "source": [
    "Export Trained Weights for Future Inference"
   ]
  },
  {
   "cell_type": "code",
   "execution_count": null,
   "id": "badcfd36-1294-43e7-848c-0db6399a61fa",
   "metadata": {},
   "outputs": [],
   "source": [
    "from google.colab import files\n",
    "files.download('./runs/exp0_yolov4-csp-results/weights/best_yolov4-csp-results.pt')"
   ]
  }
 ],
 "metadata": {
  "kernelspec": {
   "display_name": "Python 3 (ipykernel)",
   "language": "python",
   "name": "python3"
  },
  "language_info": {
   "codemirror_mode": {
    "name": "ipython",
    "version": 3
   },
   "file_extension": ".py",
   "mimetype": "text/x-python",
   "name": "python",
   "nbconvert_exporter": "python",
   "pygments_lexer": "ipython3",
   "version": "3.8.12"
  }
 },
 "nbformat": 4,
 "nbformat_minor": 5
}
