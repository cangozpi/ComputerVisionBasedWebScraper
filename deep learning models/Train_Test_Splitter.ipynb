{
 "cells": [
  {
   "cell_type": "code",
   "execution_count": null,
   "id": "1945981d-8231-4065-8dcf-b7e717e6efa8",
   "metadata": {},
   "outputs": [
    {
     "name": "stdout",
     "output_type": "stream",
     "text": [
      "Collecting split-folders\n",
      "  Using cached split_folders-0.4.3-py3-none-any.whl (7.4 kB)\n",
      "Installing collected packages: split-folders\n",
      "Successfully installed split-folders-0.4.3\n"
     ]
    }
   ],
   "source": [
    "!pip install split-folders "
   ]
  },
  {
   "cell_type": "code",
   "execution_count": 5,
   "id": "4698a304-b5f7-4934-a05f-63b7e4f0d2c0",
   "metadata": {},
   "outputs": [],
   "source": [
    "import splitfolders\n",
    "# Change filepath of images accordingly\n",
    "data_path = \"C:/Users/Batu/Desktop/COMP 491/news\"\n",
    "output_path = \"C:/Users/Batu/Desktop/COMP 491/news/output\"\n",
    "splitfolders.ratio(data_path, output=output_path, seed=69009, ratio=(.8, 0.1,0.1),group_prefix=1)\n"
   ]
  },
  {
   "cell_type": "code",
   "execution_count": null,
   "id": "75fbbefe-749b-4dc0-b560-0c70c5640f51",
   "metadata": {},
   "outputs": [],
   "source": []
  }
 ],
 "metadata": {
  "kernelspec": {
   "display_name": "Python 3 (ipykernel)",
   "language": "python",
   "name": "python3"
  },
  "language_info": {
   "codemirror_mode": {
    "name": "ipython",
    "version": 3
   },
   "file_extension": ".py",
   "mimetype": "text/x-python",
   "name": "python",
   "nbconvert_exporter": "python",
   "pygments_lexer": "ipython3",
   "version": "3.8.12"
  }
 },
 "nbformat": 4,
 "nbformat_minor": 5
}
